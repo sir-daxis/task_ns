{
 "cells": [
  {
   "cell_type": "code",
   "execution_count": 1,
   "metadata": {},
   "outputs": [],
   "source": [
    "import sqlite3\n",
    "import numpy as np\n",
    "import pandas as pd\n",
    "import matplotlib.pyplot as plt"
   ]
  },
  {
   "cell_type": "markdown",
   "metadata": {},
   "source": [
    "# 1. Load received SQLite file: database.db <br> 2. The database.db file contains several tables. Use them to create Pandas DataFrame with x , y , z , color_id and color_name for every record."
   ]
  },
  {
   "cell_type": "code",
   "execution_count": 2,
   "metadata": {},
   "outputs": [],
   "source": [
    "query = (\n",
    "    \"\"\"SELECT \n",
    "    data.id, x, y, z, connection_id AS color_id, name AS color_name \n",
    "    FROM data \n",
    "    LEFT JOIN connection \n",
    "    ON data.connection_id=connection.id\"\"\"\n",
    ")\n",
    "\n",
    "with sqlite3.connect('database_1.db') as con:\n",
    "    df = pd.read_sql_query(query, con, index_col='id')"
   ]
  },
  {
   "cell_type": "markdown",
   "metadata": {},
   "source": [
    "# 3. Note, that x, y, z should be converted to floating-point format (if necessary), and color_id to integers. <br> 4. All invalid record should be removed."
   ]
  },
  {
   "cell_type": "code",
   "execution_count": 3,
   "metadata": {},
   "outputs": [],
   "source": [
    "df[['x', 'y', 'z', 'color_id']] = df[['x', 'y', 'z', 'color_id']].apply(pd.to_numeric, errors='coerce')\n",
    "df = df.dropna(axis=0)\n",
    "df[['x', 'y', 'z']] = df[['x', 'y', 'z']].astype('float64')\n",
    "df['color_id'] = df['color_id'].astype('int64')"
   ]
  },
  {
   "cell_type": "markdown",
   "metadata": {},
   "source": [
    "# 5. Change color_name column to color"
   ]
  },
  {
   "cell_type": "code",
   "execution_count": 4,
   "metadata": {},
   "outputs": [],
   "source": [
    "df = df.rename(columns={'color_name':'color'})"
   ]
  },
  {
   "cell_type": "markdown",
   "metadata": {},
   "source": [
    "# 6. List unique color values."
   ]
  },
  {
   "cell_type": "code",
   "execution_count": 5,
   "metadata": {
    "scrolled": true
   },
   "outputs": [
    {
     "name": "stdout",
     "output_type": "stream",
     "text": [
      "['green' 'orange' 'yellow' 'red' 'black' 'blue']\n"
     ]
    }
   ],
   "source": [
    "print(df['color'].unique())"
   ]
  },
  {
   "cell_type": "markdown",
   "metadata": {},
   "source": [
    "# 7. Leave only data with z = 100"
   ]
  },
  {
   "cell_type": "code",
   "execution_count": 6,
   "metadata": {},
   "outputs": [],
   "source": [
    "df = df[df['z'] == 100]"
   ]
  },
  {
   "cell_type": "markdown",
   "metadata": {},
   "source": [
    "# 8. Remove red points with a distance from average red points’ position above 1 sigma."
   ]
  },
  {
   "cell_type": "code",
   "execution_count": 29,
   "metadata": {},
   "outputs": [],
   "source": [
    "red = df[df['color'] == 'red']\n",
    "red_sigma = red[['x', 'y']].apply(np.linalg.norm, axis=1).std()\n",
    "red_mean = np.mean(red[['x', 'y']], axis=0)\n",
    "cond = (np.linalg.norm(df[['x', 'y']].values-red_mean.values, axis=1) > red_sigma)\n",
    "df = df[~(cond & (df['color'] == 'red'))]"
   ]
  },
  {
   "cell_type": "markdown",
   "metadata": {},
   "source": [
    "# 9. Make sure rows indices are consecutive integers (starting from 0)."
   ]
  },
  {
   "cell_type": "code",
   "execution_count": 30,
   "metadata": {},
   "outputs": [],
   "source": [
    "df = df.reset_index(drop=True)"
   ]
  },
  {
   "cell_type": "markdown",
   "metadata": {},
   "source": [
    "# 10. Save the remaining points in a HDF5 file with dataset ns1 containing columns: x, y, color"
   ]
  },
  {
   "cell_type": "code",
   "execution_count": 31,
   "metadata": {},
   "outputs": [],
   "source": [
    "columns = ['x', 'y', 'color']\n",
    "\n",
    "hdf = pd.HDFStore('dataset.h5')\n",
    "hdf.put('ns1', df[columns], format='table', data_columns=True)"
   ]
  },
  {
   "cell_type": "markdown",
   "metadata": {},
   "source": [
    "# 11. Plot data from the HDF5 file using scatter plot (with corresponding colors) <br> 12. Add above plot to repository (as separate png file or as notebook cell output)"
   ]
  },
  {
   "cell_type": "code",
   "execution_count": 44,
   "metadata": {
    "scrolled": false
   },
   "outputs": [
    {
     "data": {
      "image/png": "[encoded data removed]",
      "text/plain": [
       "<Figure size 432x288 with 1 Axes>"
      ]
     },
     "metadata": {
      "needs_background": "light"
     },
     "output_type": "display_data"
    }
   ],
   "source": [
    "fig, ax = plt.subplots(1,1)\n",
    "ax.scatter(hdf['ns1']['x'], hdf['ns1']['y'], c=hdf['ns1']['color'])\n",
    "ax.set_xlabel('x')\n",
    "ax.set_ylabel('y')\n",
    "fig.suptitle('Plot', fontsize=16)\n",
    "\n",
    "fig.savefig('plot.png', dpi=300)"
   ]
  }
 ],
 "metadata": {
  "kernelspec": {
   "display_name": "Python 3",
   "language": "python",
   "name": "python3"
  },
  "language_info": {
   "codemirror_mode": {
    "name": "ipython",
    "version": 3
   },
   "file_extension": ".py",
   "mimetype": "text/x-python",
   "name": "python",
   "nbconvert_exporter": "python",
   "pygments_lexer": "ipython3",
   "version": "3.7.3"
  }
 },
 "nbformat": 4,
 "nbformat_minor": 2
}
